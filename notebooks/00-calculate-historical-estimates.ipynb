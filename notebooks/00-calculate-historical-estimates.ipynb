{
 "cells": [
  {
   "cell_type": "markdown",
   "metadata": {},
   "source": [
    "# Calculate historical departure rate estimates\n",
    "\n",
    "This notebook loads historical quarterly federal payroll data, and uses it to estimate the employee departure rates using two types of identifiers — the \"Pseudo ID\" supplied by OPM until recently, and unique names — and then compares the results of these two appraoches."
   ]
  },
  {
   "cell_type": "code",
   "execution_count": 1,
   "metadata": {
    "collapsed": true
   },
   "outputs": [],
   "source": [
    "import pandas as pd\n",
    "from collections import OrderedDict\n",
    "import sys\n",
    "import os\n",
    "from glob import glob"
   ]
  },
  {
   "cell_type": "markdown",
   "metadata": {},
   "source": [
    "## Load data"
   ]
  },
  {
   "cell_type": "code",
   "execution_count": 2,
   "metadata": {
    "collapsed": true
   },
   "outputs": [],
   "source": [
    "paths_1973 = glob(\"../inputs/fedscope-data/1973-09-to-2014-06/non-dod/status/*.txt\")"
   ]
  },
  {
   "cell_type": "code",
   "execution_count": 3,
   "metadata": {
    "collapsed": true
   },
   "outputs": [],
   "source": [
    "paths_2014 = glob(\"../inputs/fedscope-data/2014-09-to-2016-09/non-dod/status/*.txt\")"
   ]
  },
  {
   "cell_type": "code",
   "execution_count": 4,
   "metadata": {
    "collapsed": true
   },
   "outputs": [],
   "source": [
    "paths_2016 = glob(\"../inputs/fedscope-data/2016-12-to-2017-03/non-dod/status/*.txt\")"
   ]
  },
  {
   "cell_type": "code",
   "execution_count": 5,
   "metadata": {
    "collapsed": true
   },
   "outputs": [],
   "source": [
    "fwf_columns = OrderedDict([\n",
    "    ('Pseudo ID', (0, 9)),\n",
    "    ('Name', (9, 32)),\n",
    "    ('File Date', (32, 38)),\n",
    "    ('TOA', (83, 85)),\n",
    "    ('NSFTP Indicator', (86, 87)),\n",
    "])"
   ]
  },
  {
   "cell_type": "code",
   "execution_count": 6,
   "metadata": {
    "collapsed": true
   },
   "outputs": [],
   "source": [
    "def process_fwf(path):\n",
    "    sys.stderr.write(path.split(\"/\")[-1] + \"\\n\")\n",
    "    slices = fwf_columns.values()\n",
    "    with open(path, encoding=\"latin-1\") as f:\n",
    "        rows = []\n",
    "        for line in f:\n",
    "            row = [ line[start:end].strip() for start, end in slices ]\n",
    "            rows.append(row)\n",
    "        df = pd.DataFrame(rows, columns=list(fwf_columns.keys()))\\\n",
    "            .assign(**{ \n",
    "                \"Name Is Provided\": lambda x: ~(x[\"Name\"].str.contains(r\"NAME WITHHELD|UNKNOWN\"))\n",
    "            })\n",
    "\n",
    "    return df[\n",
    "        (df[\"NSFTP Indicator\"] == \"1\")\n",
    "    ].drop_duplicates(subset=[ \"Pseudo ID\" ])[[\n",
    "        \"File Date\", \"Pseudo ID\", \"Name\", \"Name Is Provided\", \"TOA\"\n",
    "    ]]"
   ]
  },
  {
   "cell_type": "code",
   "execution_count": 7,
   "metadata": {
    "collapsed": true
   },
   "outputs": [],
   "source": [
    "cols_2014 = [\n",
    "    \"Last Name\",\n",
    "    \"First Name\",\n",
    "    \"File Date\",\n",
    "    \"Agency\",\n",
    "    \"SubAgency\",\n",
    "    \"State\",\n",
    "    \"Age Range\",\n",
    "    \"YSD (Year Since Degree) Range\",\n",
    "    \"Education Level\",\n",
    "    \"Pay Plan\",\n",
    "    \"Grade\",\n",
    "    \"LOS (Length of Service) Level\",\n",
    "    \"Occupation\",\n",
    "    \"Occupational Category (PATCO)\",\n",
    "    \"Adjusted Basic Pay\",\n",
    "    \"Supervisor\",\n",
    "    \"TOA\",\n",
    "    \"Work Schedule\",\n",
    "    \"NSFTP Indicator\",\n",
    "]"
   ]
  },
  {
   "cell_type": "code",
   "execution_count": 8,
   "metadata": {
    "collapsed": true
   },
   "outputs": [],
   "source": [
    "def process_csv(path, sep=\";\", names=None):\n",
    "    sys.stderr.write(path.split(\"/\")[-1] + \"\\n\")\n",
    "    df = pd.read_csv(\n",
    "        path,\n",
    "        sep=sep,\n",
    "        low_memory=False,\n",
    "        names=names,\n",
    "    ).assign(**{\n",
    "        \"Name\": lambda x: x[[ \"Last Name\", \"First Name\" ]].fillna(\"\").apply(\",\".join, axis=1),\n",
    "        \"TOA\": lambda x: x[\"TOA\"].str.slice(0, 2),\n",
    "    }).assign(**{\n",
    "        \"Name Is Provided\": lambda x: ~(x[\"Name\"].str.contains(r\"NAME WITHHELD|NAME UNKNOWN\"))\n",
    "    })\n",
    "    return df[\n",
    "        (df[\"NSFTP Indicator\"].astype(str).str.slice(0, 1) == \"1\")\n",
    "    ][[\n",
    "        \"File Date\", \"Name\", \"Name Is Provided\", \"TOA\"\n",
    "    ]]"
   ]
  },
  {
   "cell_type": "code",
   "execution_count": 9,
   "metadata": {
    "collapsed": true
   },
   "outputs": [],
   "source": [
    "def calculate_turnover_rates(subset, q1, q2):\n",
    "    q1_nonpolitical = q1[q1[\"TOA\"] != \"55\"]\n",
    "    if \"Pseudo ID\" in q1.columns and \"Pseudo ID\" in q2.columns:\n",
    "        by_id = 1 - q1_nonpolitical[\"Pseudo ID\"].isin(q2[\"Pseudo ID\"]).mean()\n",
    "    else:\n",
    "        by_id = None\n",
    "    \n",
    "    q1_unique_names = q1_nonpolitical[\"Name\"].value_counts()\\\n",
    "        .pipe(lambda x: x[x == 1]).index\n",
    "    \n",
    "    by_name = 1 - q1_unique_names.isin(q2[\"Name\"].unique()).mean()\n",
    "\n",
    "    return {\n",
    "        \"subset\": subset,\n",
    "        \"q1\": str(q1[\"File Date\"].iloc[0])[:6],\n",
    "        \"q2\": str(q2[\"File Date\"].iloc[0])[:6],\n",
    "        \"q1_count\": len(q1_nonpolitical),\n",
    "        \"q1_unique_name_count\": len(q1_unique_names),\n",
    "        \"prop_missing_by_id\": by_id,\n",
    "        \"prop_missing_by_name\": by_name,\n",
    "    }"
   ]
  },
  {
   "cell_type": "code",
   "execution_count": 10,
   "metadata": {
    "collapsed": true
   },
   "outputs": [],
   "source": [
    "process_1973 = lambda path: process_fwf(path)\n",
    "process_2014 = lambda path: process_csv(path, sep=\"|\", names=cols_2014)\n",
    "process_2016 = lambda path: process_csv(path, sep=\";\")"
   ]
  },
  {
   "cell_type": "code",
   "execution_count": 11,
   "metadata": {
    "collapsed": true
   },
   "outputs": [],
   "source": [
    "dfgen_1973 = [ (process_1973, path) for path in paths_1973[-59:] ]\n",
    "dfgen_2014 = [ (process_2014, path) for path in paths_2014 ]\n",
    "dfgen_2016 = [ (process_2016, path) for path in paths_2016 ]\n",
    "\n",
    "df_gens = dfgen_1973 + dfgen_2014 + dfgen_2016"
   ]
  },
  {
   "cell_type": "code",
   "execution_count": 12,
   "metadata": {
    "scrolled": false
   },
   "outputs": [
    {
     "name": "stderr",
     "output_type": "stream",
     "text": [
      "Status_Non_DoD_1999_12.txt\n",
      "Status_Non_DoD_2000_03.txt\n",
      "Status_Non_DoD_2000_06.txt\n",
      "Status_Non_DoD_2000_09.txt\n",
      "Status_Non_DoD_2000_12.txt\n",
      "Status_Non_DoD_2001_03.txt\n",
      "Status_Non_DoD_2001_06.txt\n",
      "Status_Non_DoD_2001_09.txt\n",
      "Status_Non_DoD_2001_12.txt\n",
      "Status_Non_DoD_2002_03.txt\n",
      "Status_Non_DoD_2002_06.txt\n",
      "Status_Non_DoD_2002_09.txt\n",
      "Status_Non_DoD_2002_12.txt\n",
      "Status_Non_DoD_2003_03.txt\n",
      "Status_Non_DoD_2003_06.txt\n",
      "Status_Non_DoD_2003_09.txt\n",
      "Status_Non_DoD_2003_12.txt\n",
      "Status_Non_DoD_2004_03.txt\n",
      "Status_Non_DoD_2004_06.txt\n",
      "Status_Non_DoD_2004_09.txt\n",
      "Status_Non_DoD_2004_12.txt\n",
      "Status_Non_DoD_2005_03.txt\n",
      "Status_Non_DoD_2005_06.txt\n",
      "Status_Non_DoD_2005_09.txt\n",
      "Status_Non_DoD_2005_12.txt\n",
      "Status_Non_DoD_2006_03.txt\n",
      "Status_Non_DoD_2006_06.txt\n",
      "Status_Non_DoD_2006_09.txt\n",
      "Status_Non_DoD_2006_12.txt\n",
      "Status_Non_DoD_2007_03.txt\n",
      "Status_Non_DoD_2007_06.txt\n",
      "Status_Non_DoD_2007_09.txt\n",
      "Status_Non_DoD_2007_12.txt\n",
      "Status_Non_DoD_2008_03.txt\n",
      "Status_Non_DoD_2008_06.txt\n",
      "Status_Non_DoD_2008_09.txt\n",
      "Status_Non_DoD_2008_12.txt\n",
      "Status_Non_DoD_2009_03.txt\n",
      "Status_Non_DoD_2009_06.txt\n",
      "Status_Non_DoD_2009_09.txt\n",
      "Status_Non_DoD_2009_12.txt\n",
      "Status_Non_DoD_2010_03.txt\n",
      "Status_Non_DoD_2010_06.txt\n",
      "Status_Non_DoD_2010_09.txt\n",
      "Status_Non_DoD_2010_12.txt\n",
      "Status_Non_DoD_2011_03.txt\n",
      "Status_Non_DoD_2011_06.txt\n",
      "Status_Non_DoD_2011_09.txt\n",
      "Status_Non_DoD_2011_12.txt\n",
      "Status_Non_DoD_2012_03.txt\n",
      "Status_Non_DoD_2012_06.txt\n",
      "Status_Non_DoD_2012_09.txt\n",
      "Status_Non_DoD_2012_12.txt\n",
      "Status_Non_DoD_2013_03.txt\n",
      "Status_Non_DoD_2013_06.txt\n",
      "Status_Non_DoD_2013_09.txt\n",
      "Status_Non_DoD_2013_12.txt\n",
      "Status_Non_DoD_2014_03.txt\n",
      "Status_Non_DoD_2014_06.txt\n",
      "Non_DoD_201409.txt\n",
      "Non_DoD_201412.txt\n",
      "Non_DoD_201503.txt\n",
      "Non_DoD_201506.txt\n",
      "Non_DoD_201509.txt\n",
      "Non_DoD_201512.txt\n",
      "Non_DoD_201603.txt\n",
      "Non_DoD_201606.txt\n",
      "Non_DoD_201609.txt\n",
      "Non-DoD FOIA 2017-04762 201612.txt\n",
      "Non-DoD FOIA 2017-04762 201703.txt\n"
     ]
    }
   ],
   "source": [
    "comparisons = []\n",
    "\n",
    "q1 = df_gens[0][0](df_gens[0][1])\n",
    "for gen in df_gens[1:]:\n",
    "    q2 = gen[0](gen[1])\n",
    "\n",
    "    comparisons.append(calculate_turnover_rates(\n",
    "        \"overall\",\n",
    "        q1,\n",
    "        q2,\n",
    "    ))\n",
    "    \n",
    "    comparisons.append(calculate_turnover_rates(\n",
    "        \"named_only\",\n",
    "        q1[q1[\"Name Is Provided\"]],\n",
    "        q2[q2[\"Name Is Provided\"]],\n",
    "    ))\n",
    "\n",
    "    del q1\n",
    "    q1 = q2"
   ]
  },
  {
   "cell_type": "code",
   "execution_count": 13,
   "metadata": {
    "collapsed": true
   },
   "outputs": [],
   "source": [
    "results = pd.DataFrame(comparisons)[[\n",
    "    \"subset\",\n",
    "    \"q1\",\n",
    "    \"q2\",\n",
    "    \"q1_count\",\n",
    "    \"q1_unique_name_count\",\n",
    "    \"prop_missing_by_id\",\n",
    "    \"prop_missing_by_name\",\n",
    "]].sort_values([ \"q1\", \"q2\", \"subset\" ])\n",
    "\n",
    "results[\"approach_diff\"] = (results[\"prop_missing_by_name\"] - results[\"prop_missing_by_id\"]).abs()"
   ]
  },
  {
   "cell_type": "code",
   "execution_count": 14,
   "metadata": {},
   "outputs": [
    {
     "data": {
      "text/html": [
       "<div>\n",
       "<style>\n",
       "    .dataframe thead tr:only-child th {\n",
       "        text-align: right;\n",
       "    }\n",
       "\n",
       "    .dataframe thead th {\n",
       "        text-align: left;\n",
       "    }\n",
       "\n",
       "    .dataframe tbody tr th {\n",
       "        vertical-align: top;\n",
       "    }\n",
       "</style>\n",
       "<table border=\"1\" class=\"dataframe\">\n",
       "  <thead>\n",
       "    <tr style=\"text-align: right;\">\n",
       "      <th></th>\n",
       "      <th>subset</th>\n",
       "      <th>q1</th>\n",
       "      <th>q2</th>\n",
       "      <th>q1_count</th>\n",
       "      <th>q1_unique_name_count</th>\n",
       "      <th>prop_missing_by_id</th>\n",
       "      <th>prop_missing_by_name</th>\n",
       "      <th>approach_diff</th>\n",
       "    </tr>\n",
       "  </thead>\n",
       "  <tbody>\n",
       "    <tr>\n",
       "      <th>1</th>\n",
       "      <td>named_only</td>\n",
       "      <td>199912</td>\n",
       "      <td>200003</td>\n",
       "      <td>580375</td>\n",
       "      <td>552723</td>\n",
       "      <td>0.021483</td>\n",
       "      <td>0.021448</td>\n",
       "      <td>0.000034</td>\n",
       "    </tr>\n",
       "    <tr>\n",
       "      <th>0</th>\n",
       "      <td>overall</td>\n",
       "      <td>199912</td>\n",
       "      <td>200003</td>\n",
       "      <td>908249</td>\n",
       "      <td>552723</td>\n",
       "      <td>0.020410</td>\n",
       "      <td>0.021448</td>\n",
       "      <td>0.001039</td>\n",
       "    </tr>\n",
       "    <tr>\n",
       "      <th>3</th>\n",
       "      <td>named_only</td>\n",
       "      <td>200003</td>\n",
       "      <td>200006</td>\n",
       "      <td>576846</td>\n",
       "      <td>549571</td>\n",
       "      <td>0.016354</td>\n",
       "      <td>0.016376</td>\n",
       "      <td>0.000022</td>\n",
       "    </tr>\n",
       "    <tr>\n",
       "      <th>2</th>\n",
       "      <td>overall</td>\n",
       "      <td>200003</td>\n",
       "      <td>200006</td>\n",
       "      <td>904361</td>\n",
       "      <td>549571</td>\n",
       "      <td>0.015730</td>\n",
       "      <td>0.016376</td>\n",
       "      <td>0.000646</td>\n",
       "    </tr>\n",
       "    <tr>\n",
       "      <th>5</th>\n",
       "      <td>named_only</td>\n",
       "      <td>200006</td>\n",
       "      <td>200009</td>\n",
       "      <td>578363</td>\n",
       "      <td>550963</td>\n",
       "      <td>0.021274</td>\n",
       "      <td>0.021352</td>\n",
       "      <td>0.000078</td>\n",
       "    </tr>\n",
       "  </tbody>\n",
       "</table>\n",
       "</div>"
      ],
      "text/plain": [
       "       subset      q1      q2  q1_count  q1_unique_name_count  \\\n",
       "1  named_only  199912  200003    580375                552723   \n",
       "0     overall  199912  200003    908249                552723   \n",
       "3  named_only  200003  200006    576846                549571   \n",
       "2     overall  200003  200006    904361                549571   \n",
       "5  named_only  200006  200009    578363                550963   \n",
       "\n",
       "   prop_missing_by_id  prop_missing_by_name  approach_diff  \n",
       "1            0.021483              0.021448       0.000034  \n",
       "0            0.020410              0.021448       0.001039  \n",
       "3            0.016354              0.016376       0.000022  \n",
       "2            0.015730              0.016376       0.000646  \n",
       "5            0.021274              0.021352       0.000078  "
      ]
     },
     "execution_count": 14,
     "metadata": {},
     "output_type": "execute_result"
    }
   ],
   "source": [
    "results.head()"
   ]
  },
  {
   "cell_type": "markdown",
   "metadata": {},
   "source": [
    "Note: In mid-2006, the Department of Justice changed the Pseudo IDs for a large number of unnamed employees. Below, we exclude that transitional quarter."
   ]
  },
  {
   "cell_type": "code",
   "execution_count": 15,
   "metadata": {},
   "outputs": [
    {
     "data": {
      "text/plain": [
       "count    57.000000\n",
       "mean      0.000661\n",
       "std       0.000626\n",
       "min       0.000000\n",
       "25%       0.000190\n",
       "50%       0.000480\n",
       "75%       0.000760\n",
       "max       0.002610\n",
       "Name: approach_diff, dtype: float64"
      ]
     },
     "execution_count": 15,
     "metadata": {},
     "output_type": "execute_result"
    }
   ],
   "source": [
    "results[\n",
    "    (results[\"subset\"] == \"overall\") &\n",
    "    (results[\"q1\"] != \"200606\")\n",
    "].assign()\\\n",
    "    .sort_values(\"approach_diff\", ascending=False)\\\n",
    "    .dropna()\\\n",
    "    [\"approach_diff\"].round(5).describe()"
   ]
  },
  {
   "cell_type": "code",
   "execution_count": 16,
   "metadata": {},
   "outputs": [
    {
     "data": {
      "text/plain": [
       "count        69.000000\n",
       "mean     618176.333333\n",
       "std       47403.035346\n",
       "min      549571.000000\n",
       "25%      580351.000000\n",
       "50%      600333.000000\n",
       "75%      659870.000000\n",
       "max      689551.000000\n",
       "Name: q1_unique_name_count, dtype: float64"
      ]
     },
     "execution_count": 16,
     "metadata": {},
     "output_type": "execute_result"
    }
   ],
   "source": [
    "results[\n",
    "    (results[\"subset\"] == \"overall\")\n",
    "][\"q1_unique_name_count\"].describe()"
   ]
  },
  {
   "cell_type": "code",
   "execution_count": 17,
   "metadata": {
    "collapsed": true
   },
   "outputs": [],
   "source": [
    "results.to_csv(\n",
    "    \"../outputs/historical-estimates.csv\",\n",
    "    index=False,\n",
    ")"
   ]
  },
  {
   "cell_type": "markdown",
   "metadata": {},
   "source": [
    "---\n",
    "\n",
    "---\n",
    "\n",
    "---"
   ]
  }
 ],
 "metadata": {
  "kernelspec": {
   "display_name": "Python 3",
   "language": "python",
   "name": "python3"
  },
  "language_info": {
   "codemirror_mode": {
    "name": "ipython",
    "version": 3
   },
   "file_extension": ".py",
   "mimetype": "text/x-python",
   "name": "python",
   "nbconvert_exporter": "python",
   "pygments_lexer": "ipython3",
   "version": "3.4.3"
  }
 },
 "nbformat": 4,
 "nbformat_minor": 2
}
